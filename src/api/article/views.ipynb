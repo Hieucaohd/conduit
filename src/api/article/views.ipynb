{
 "cells": [
  {
   "cell_type": "code",
   "execution_count": 2,
   "metadata": {},
   "outputs": [],
   "source": [
    "article =[{'slug':1,'tagname':'tag1'},\n",
    "{'slug':1,'tagname':'tag2'},\n",
    "{'slug':1,'tagname':'tag3'},\n",
    "{'slug':2,'tagname':'tag4'},\n",
    "{'slug':2,'tagname':'tag5'},\n",
    "{'slug':3,'tagname':'tag6'},\n",
    "{'slug':3,'tagname':'tag7'},\n",
    "{'slug':4,'tagname':'tag8'},\n",
    "]\n",
    "# {'slug':1,'tagList':['tag1','tag2']}"
   ]
  },
  {
   "cell_type": "code",
   "execution_count": 3,
   "metadata": {},
   "outputs": [],
   "source": [
    "list_slug_with_tag_name = []\n",
    "current_article = article[0]\n",
    "taglist = []\n"
   ]
  },
  {
   "cell_type": "code",
   "execution_count": 4,
   "metadata": {},
   "outputs": [
    {
     "ename": "KeyError",
     "evalue": "'tagname'",
     "output_type": "error",
     "traceback": [
      "\u001b[1;31m---------------------------------------------------------------------------\u001b[0m",
      "\u001b[1;31mKeyError\u001b[0m                                  Traceback (most recent call last)",
      "Cell \u001b[1;32mIn[4], line 5\u001b[0m\n\u001b[0;32m      3\u001b[0m     taglist\u001b[39m.\u001b[39mappend(i[\u001b[39m'\u001b[39m\u001b[39mtagname\u001b[39m\u001b[39m'\u001b[39m])\n\u001b[0;32m      4\u001b[0m \u001b[39melse\u001b[39;00m : \n\u001b[1;32m----> 5\u001b[0m     \u001b[39mdel\u001b[39;00m current_article[\u001b[39m'\u001b[39m\u001b[39mtagname\u001b[39m\u001b[39m'\u001b[39m]\n\u001b[0;32m      6\u001b[0m     current_article[\u001b[39m'\u001b[39m\u001b[39mtagList\u001b[39m\u001b[39m'\u001b[39m]\u001b[39m=\u001b[39mtaglist\n\u001b[0;32m      7\u001b[0m     list_slug_with_tag_name\u001b[39m.\u001b[39mappend(current_article)\n",
      "\u001b[1;31mKeyError\u001b[0m: 'tagname'"
     ]
    }
   ],
   "source": [
    "for i in article :\n",
    "    if i['slug'] == current_article['slug'] :\n",
    "        taglist.append(i['tagname'])\n",
    "    else : \n",
    "        del current_article['tagname']\n",
    "        current_article['tagList']=taglist\n",
    "        list_slug_with_tag_name.append(current_article)\n",
    "    current_article = i \n",
    "    taglist.append(current_article['tagname'])\n"
   ]
  }
 ],
 "metadata": {
  "kernelspec": {
   "display_name": "venv",
   "language": "python",
   "name": "python3"
  },
  "language_info": {
   "codemirror_mode": {
    "name": "ipython",
    "version": 3
   },
   "file_extension": ".py",
   "mimetype": "text/x-python",
   "name": "python",
   "nbconvert_exporter": "python",
   "pygments_lexer": "ipython3",
   "version": "3.9.7"
  },
  "orig_nbformat": 4
 },
 "nbformat": 4,
 "nbformat_minor": 2
}
